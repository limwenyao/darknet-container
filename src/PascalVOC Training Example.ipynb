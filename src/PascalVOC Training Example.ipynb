{
 "cells": [
  {
   "cell_type": "markdown",
   "metadata": {},
   "source": [
    "### Introduction\n",
    "\n",
    "#### This tutorial shows how to run darknet end to end data pre-processing & training within a container\n",
    "\n",
    "### Data Pre-processing\n",
    "Darknet has its own format for image object detection annotations. The commonly known formats in the open source community are pascalVOC & COCO. We will be using a pascalVOC example for this demonstration, including converting its annotation into darknet format. Below shows the folder containing our training data"
   ]
  },
  {
   "cell_type": "code",
   "execution_count": 1,
   "metadata": {},
   "outputs": [
    {
     "name": "stdout",
     "output_type": "stream",
     "text": [
      "VOCdevkit\r\n"
     ]
    }
   ],
   "source": [
    "!ls /data/train"
   ]
  },
  {
   "cell_type": "markdown",
   "metadata": {},
   "source": [
    "This folder shows the contents within pascalVOC 2008. We will be extracting pascalVOC annotations from the **Annotations** folder into a darknet annotation folder called **labels** (all folders except labels come from pascalVOC dataset)"
   ]
  },
  {
   "cell_type": "code",
   "execution_count": 2,
   "metadata": {},
   "outputs": [
    {
     "name": "stdout",
     "output_type": "stream",
     "text": [
      "Annotations  JPEGImages\t\tSegmentationObject\r\n",
      "ImageSets    SegmentationClass\tlabels\r\n"
     ]
    }
   ],
   "source": [
    "!ls /data/train/VOCdevkit/VOC2008"
   ]
  },
  {
   "cell_type": "markdown",
   "metadata": {},
   "source": [
    "We will now run a script to aid in our conversion. We can run from command line python or through jupyter interface."
   ]
  },
  {
   "cell_type": "code",
   "execution_count": 3,
   "metadata": {},
   "outputs": [
    {
     "name": "stdout",
     "output_type": "stream",
     "text": [
      "usage: pascalvoc_to_yolo.py [-h] -n NAMES [-d DIR] [-s SUBDIR] [-t TEXTFILE]\n",
      "                            [-rt TEXTFILEROOT]\n",
      "\n",
      "Convert pascalVOC to darknet labels\n",
      "\n",
      "optional arguments:\n",
      "  -h, --help            show this help message and exit\n",
      "  -n NAMES, --names NAMES\n",
      "                        A darknet .names file containing class names\n",
      "  -d DIR, --dir DIR     Other main directory\n",
      "  -s SUBDIR, --subdir SUBDIR\n",
      "                        Specify multiple sub-directories of pascalVOC folders.\n",
      "                        NOT IN USE\n",
      "  -t TEXTFILE, --textfile TEXTFILE\n",
      "                        Path to save text file of images for training. Default\n",
      "                        does not generate\n",
      "  -rt TEXTFILEROOT, --textfileroot TEXTFILEROOT\n",
      "                        Use only if running preprocesing in host machine but\n",
      "                        running training in container, so that textfile image\n",
      "                        directory mapping will have correct container path.\n",
      "Conversion Completed.\n"
     ]
    }
   ],
   "source": [
    "# Command Line\n",
    "!python3 pascalvoc_to_yolo.py -h # for argument help\n",
    "!python3 pascalvoc_to_yolo.py -n ../data/cfg/voc.names -d ../data/train/VOCdevkit/VOC2008/ -t ../data/cfg/train.txt # -rt /data/train/VOCdevkit/VOC2008/"
   ]
  },
  {
   "cell_type": "code",
   "execution_count": 4,
   "metadata": {},
   "outputs": [
    {
     "name": "stdout",
     "output_type": "stream",
     "text": [
      "Conversion Completed.\n"
     ]
    }
   ],
   "source": [
    "# OR python interface\n",
    "from pascalvoc_to_yolo import main\n",
    "main(argnames='../data/cfg/voc.names', argdir='../data/train/VOCdevkit/VOC2008/', argtextfile='../data/cfg/train.txt')"
   ]
  },
  {
   "cell_type": "markdown",
   "metadata": {},
   "source": [
    "### Model configuration / tuning\n",
    "We will now run configuration of the model to finetune its architecture for our dataset. This will be an iterative process of experimentation. We will run through one example for our pascalVOC use-case."
   ]
  },
  {
   "cell_type": "code",
   "execution_count": null,
   "metadata": {},
   "outputs": [],
   "source": []
  },
  {
   "cell_type": "code",
   "execution_count": null,
   "metadata": {},
   "outputs": [],
   "source": []
  },
  {
   "cell_type": "markdown",
   "metadata": {},
   "source": [
    "### Run training\n",
    "Training darknet differs from other framework being it is executed from a binary. The model architecture, data (and if any pre-trained model) configurations are passed in as arguments to the darknet binary\n",
    "\n",
    "\n",
    "```darknet detector train <config.data> <model.cfg> <pretrained.model> <-gpus 0,1,2,3> -dont_show```"
   ]
  },
  {
   "cell_type": "code",
   "execution_count": 6,
   "metadata": {},
   "outputs": [
    {
     "name": "stdout",
     "output_type": "stream",
     "text": [
      " CUDA-version: 10020 (10020), cuDNN: 7.6.5, CUDNN_HALF=1, GPU count: 1  \n",
      " CUDNN_HALF=1 \n",
      " OpenCV version: 4.3.0\n",
      "yolov3-voc\n",
      " 0 : compute_capability = 750, cudnn_half = 1, GPU: GeForce RTX 2070 SUPER \n",
      "net.optimized_memory = 0 \n",
      "mini_batch = 2, batch = 64, time_steps = 1, train = 1 \n",
      "   layer   filters  size/strd(dil)      input                output\n",
      "   0 conv     32       3 x 3/ 1    416 x 416 x   3 ->  416 x 416 x  32 0.299 BF\n",
      "   1 conv     64       3 x 3/ 2    416 x 416 x  32 ->  208 x 208 x  64 1.595 BF\n",
      "   2 conv     32       1 x 1/ 1    208 x 208 x  64 ->  208 x 208 x  32 0.177 BF\n",
      "   3 conv     64       3 x 3/ 1    208 x 208 x  32 ->  208 x 208 x  64 1.595 BF\n",
      "   4 Shortcut Layer: 1,  wt = 0, wn = 0, outputs: 208 x 208 x  64 0.003 BF\n",
      "   5 conv    128       3 x 3/ 2    208 x 208 x  64 ->  104 x 104 x 128 1.595 BF\n",
      "   6 conv     64       1 x 1/ 1    104 x 104 x 128 ->  104 x 104 x  64 0.177 BF\n",
      "   7 conv    128       3 x 3/ 1    104 x 104 x  64 ->  104 x 104 x 128 1.595 BF\n",
      "   8 Shortcut Layer: 5,  wt = 0, wn = 0, outputs: 104 x 104 x 128 0.001 BF\n",
      "   9 conv     64       1 x 1/ 1    104 x 104 x 128 ->  104 x 104 x  64 0.177 BF\n",
      "  10 conv    128       3 x 3/ 1    104 x 104 x  64 ->  104 x 104 x 128 1.595 BF\n",
      "  11 Shortcut Layer: 8,  wt = 0, wn = 0, outputs: 104 x 104 x 128 0.001 BF\n",
      "  12 conv    256       3 x 3/ 2    104 x 104 x 128 ->   52 x  52 x 256 1.595 BF\n",
      "  13 conv    128       1 x 1/ 1     52 x  52 x 256 ->   52 x  52 x 128 0.177 BF\n",
      "  14 conv    256       3 x 3/ 1     52 x  52 x 128 ->   52 x  52 x 256 1.595 BF\n",
      "  15 Shortcut Layer: 12,  wt = 0, wn = 0, outputs:  52 x  52 x 256 0.001 BF\n",
      "  16 conv    128       1 x 1/ 1     52 x  52 x 256 ->   52 x  52 x 128 0.177 BF\n",
      "  17 conv    256       3 x 3/ 1     52 x  52 x 128 ->   52 x  52 x 256 1.595 BF\n",
      "  18 Shortcut Layer: 15,  wt = 0, wn = 0, outputs:  52 x  52 x 256 0.001 BF\n",
      "  19 conv    128       1 x 1/ 1     52 x  52 x 256 ->   52 x  52 x 128 0.177 BF\n",
      "  20 conv    256       3 x 3/ 1     52 x  52 x 128 ->   52 x  52 x 256 1.595 BF\n",
      "  21 Shortcut Layer: 18,  wt = 0, wn = 0, outputs:  52 x  52 x 256 0.001 BF\n",
      "  22 conv    128       1 x 1/ 1     52 x  52 x 256 ->   52 x  52 x 128 0.177 BF\n",
      "  23 conv    256       3 x 3/ 1     52 x  52 x 128 ->   52 x  52 x 256 1.595 BF\n",
      "  24 Shortcut Layer: 21,  wt = 0, wn = 0, outputs:  52 x  52 x 256 0.001 BF\n",
      "  25 conv    128       1 x 1/ 1     52 x  52 x 256 ->   52 x  52 x 128 0.177 BF\n",
      "  26 conv    256       3 x 3/ 1     52 x  52 x 128 ->   52 x  52 x 256 1.595 BF\n",
      "  27 Shortcut Layer: 24,  wt = 0, wn = 0, outputs:  52 x  52 x 256 0.001 BF\n",
      "  28 conv    128       1 x 1/ 1     52 x  52 x 256 ->   52 x  52 x 128 0.177 BF\n",
      "  29 conv    256       3 x 3/ 1     52 x  52 x 128 ->   52 x  52 x 256 1.595 BF\n",
      "  30 Shortcut Layer: 27,  wt = 0, wn = 0, outputs:  52 x  52 x 256 0.001 BF\n",
      "  31 conv    128       1 x 1/ 1     52 x  52 x 256 ->   52 x  52 x 128 0.177 BF\n",
      "  32 conv    256       3 x 3/ 1     52 x  52 x 128 ->   52 x  52 x 256 1.595 BF\n",
      "  33 Shortcut Layer: 30,  wt = 0, wn = 0, outputs:  52 x  52 x 256 0.001 BF\n",
      "  34 conv    128       1 x 1/ 1     52 x  52 x 256 ->   52 x  52 x 128 0.177 BF\n",
      "  35 conv    256       3 x 3/ 1     52 x  52 x 128 ->   52 x  52 x 256 1.595 BF\n",
      "  36 Shortcut Layer: 33,  wt = 0, wn = 0, outputs:  52 x  52 x 256 0.001 BF\n",
      "  37 conv    512       3 x 3/ 2     52 x  52 x 256 ->   26 x  26 x 512 1.595 BF\n",
      "  38 conv    256       1 x 1/ 1     26 x  26 x 512 ->   26 x  26 x 256 0.177 BF\n",
      "  39 conv    512       3 x 3/ 1     26 x  26 x 256 ->   26 x  26 x 512 1.595 BF\n",
      "  40 Shortcut Layer: 37,  wt = 0, wn = 0, outputs:  26 x  26 x 512 0.000 BF\n",
      "  41 conv    256       1 x 1/ 1     26 x  26 x 512 ->   26 x  26 x 256 0.177 BF\n",
      "  42 conv    512       3 x 3/ 1     26 x  26 x 256 ->   26 x  26 x 512 1.595 BF\n",
      "  43 Shortcut Layer: 40,  wt = 0, wn = 0, outputs:  26 x  26 x 512 0.000 BF\n",
      "  44 conv    256       1 x 1/ 1     26 x  26 x 512 ->   26 x  26 x 256 0.177 BF\n",
      "  45 conv    512       3 x 3/ 1     26 x  26 x 256 ->   26 x  26 x 512 1.595 BF\n",
      "  46 Shortcut Layer: 43,  wt = 0, wn = 0, outputs:  26 x  26 x 512 0.000 BF\n",
      "  47 conv    256       1 x 1/ 1     26 x  26 x 512 ->   26 x  26 x 256 0.177 BF\n",
      "  48 conv    512       3 x 3/ 1     26 x  26 x 256 ->   26 x  26 x 512 1.595 BF\n",
      "  49 Shortcut Layer: 46,  wt = 0, wn = 0, outputs:  26 x  26 x 512 0.000 BF\n",
      "  50 conv    256       1 x 1/ 1     26 x  26 x 512 ->   26 x  26 x 256 0.177 BF\n",
      "  51 conv    512       3 x 3/ 1     26 x  26 x 256 ->   26 x  26 x 512 1.595 BF\n",
      "  52 Shortcut Layer: 49,  wt = 0, wn = 0, outputs:  26 x  26 x 512 0.000 BF\n",
      "  53 conv    256       1 x 1/ 1     26 x  26 x 512 ->   26 x  26 x 256 0.177 BF\n",
      "  54 conv    512       3 x 3/ 1     26 x  26 x 256 ->   26 x  26 x 512 1.595 BF\n",
      "  55 Shortcut Layer: 52,  wt = 0, wn = 0, outputs:  26 x  26 x 512 0.000 BF\n",
      "  56 conv    256       1 x 1/ 1     26 x  26 x 512 ->   26 x  26 x 256 0.177 BF\n",
      "  57 conv    512       3 x 3/ 1     26 x  26 x 256 ->   26 x  26 x 512 1.595 BF\n",
      "  58 Shortcut Layer: 55,  wt = 0, wn = 0, outputs:  26 x  26 x 512 0.000 BF\n",
      "  59 conv    256       1 x 1/ 1     26 x  26 x 512 ->   26 x  26 x 256 0.177 BF\n",
      "  60 conv    512       3 x 3/ 1     26 x  26 x 256 ->   26 x  26 x 512 1.595 BF\n",
      "  61 Shortcut Layer: 58,  wt = 0, wn = 0, outputs:  26 x  26 x 512 0.000 BF\n",
      "  62 conv   1024       3 x 3/ 2     26 x  26 x 512 ->   13 x  13 x1024 1.595 BF\n",
      "  63 conv    512       1 x 1/ 1     13 x  13 x1024 ->   13 x  13 x 512 0.177 BF\n",
      "  64 conv   1024       3 x 3/ 1     13 x  13 x 512 ->   13 x  13 x1024 1.595 BF\n",
      "  65 Shortcut Layer: 62,  wt = 0, wn = 0, outputs:  13 x  13 x1024 0.000 BF\n",
      "  66 conv    512       1 x 1/ 1     13 x  13 x1024 ->   13 x  13 x 512 0.177 BF\n",
      "  67 conv   1024       3 x 3/ 1     13 x  13 x 512 ->   13 x  13 x1024 1.595 BF\n",
      "  68 Shortcut Layer: 65,  wt = 0, wn = 0, outputs:  13 x  13 x1024 0.000 BF\n",
      "  69 conv    512       1 x 1/ 1     13 x  13 x1024 ->   13 x  13 x 512 0.177 BF\n",
      "  70 conv   1024       3 x 3/ 1     13 x  13 x 512 ->   13 x  13 x1024 1.595 BF\n",
      "  71 Shortcut Layer: 68,  wt = 0, wn = 0, outputs:  13 x  13 x1024 0.000 BF\n",
      "  72 conv    512       1 x 1/ 1     13 x  13 x1024 ->   13 x  13 x 512 0.177 BF\n",
      "  73 conv   1024       3 x 3/ 1     13 x  13 x 512 ->   13 x  13 x1024 1.595 BF\n",
      "  74 Shortcut Layer: 71,  wt = 0, wn = 0, outputs:  13 x  13 x1024 0.000 BF\n",
      "  75 conv    512       1 x 1/ 1     13 x  13 x1024 ->   13 x  13 x 512 0.177 BF\n",
      "  76 conv   1024       3 x 3/ 1     13 x  13 x 512 ->   13 x  13 x1024 1.595 BF\n",
      "  77 conv    512       1 x 1/ 1     13 x  13 x1024 ->   13 x  13 x 512 0.177 BF\n",
      "  78 conv   1024       3 x 3/ 1     13 x  13 x 512 ->   13 x  13 x1024 1.595 BF\n",
      "  79 conv    512       1 x 1/ 1     13 x  13 x1024 ->   13 x  13 x 512 0.177 BF\n",
      "  80 conv   1024       3 x 3/ 1     13 x  13 x 512 ->   13 x  13 x1024 1.595 BF\n",
      "  81 conv     75       1 x 1/ 1     13 x  13 x1024 ->   13 x  13 x  75 0.026 BF\n",
      "  82 yolo\n",
      "[yolo] params: iou loss: mse (2), iou_norm: 0.75, cls_norm: 1.00, scale_x_y: 1.00\n",
      "  83 route  79 \t\t                           ->   13 x  13 x 512 \n",
      "  84 conv    256       1 x 1/ 1     13 x  13 x 512 ->   13 x  13 x 256 0.044 BF\n",
      "  85 upsample                 2x    13 x  13 x 256 ->   26 x  26 x 256\n",
      "  86 route  85 61 \t                           ->   26 x  26 x 768 \n",
      "  87 conv    256       1 x 1/ 1     26 x  26 x 768 ->   26 x  26 x 256 0.266 BF\n",
      "  88 conv    512       3 x 3/ 1     26 x  26 x 256 ->   26 x  26 x 512 1.595 BF\n",
      "  89 conv    256       1 x 1/ 1     26 x  26 x 512 ->   26 x  26 x 256 0.177 BF\n",
      "  90 conv    512       3 x 3/ 1     26 x  26 x 256 ->   26 x  26 x 512 1.595 BF\n",
      "  91 conv    256       1 x 1/ 1     26 x  26 x 512 ->   26 x  26 x 256 0.177 BF\n",
      "  92 conv    512       3 x 3/ 1     26 x  26 x 256 ->   26 x  26 x 512 1.595 BF\n",
      "  93 conv     75       1 x 1/ 1     26 x  26 x 512 ->   26 x  26 x  75 0.052 BF\n",
      "  94 yolo\n",
      "[yolo] params: iou loss: mse (2), iou_norm: 0.75, cls_norm: 1.00, scale_x_y: 1.00\n",
      "  95 route  91 \t\t                           ->   26 x  26 x 256 \n",
      "  96 conv    128       1 x 1/ 1     26 x  26 x 256 ->   26 x  26 x 128 0.044 BF\n",
      "  97 upsample                 2x    26 x  26 x 128 ->   52 x  52 x 128\n",
      "  98 route  97 36 \t                           ->   52 x  52 x 384 \n",
      "  99 conv    128       1 x 1/ 1     52 x  52 x 384 ->   52 x  52 x 128 0.266 BF\n",
      " 100 conv    256       3 x 3/ 1     52 x  52 x 128 ->   52 x  52 x 256 1.595 BF\n",
      " 101 conv    128       1 x 1/ 1     52 x  52 x 256 ->   52 x  52 x 128 0.177 BF\n",
      " 102 conv    256       3 x 3/ 1     52 x  52 x 128 ->   52 x  52 x 256 1.595 BF\n",
      " 103 conv    128       1 x 1/ 1     52 x  52 x 256 ->   52 x  52 x 128 0.177 BF\n",
      " 104 conv    256       3 x 3/ 1     52 x  52 x 128 ->   52 x  52 x 256 1.595 BF\n",
      " 105 conv     75       1 x 1/ 1     52 x  52 x 256 ->   52 x  52 x  75 0.104 BF\n",
      " 106 yolo\n",
      "[yolo] params: iou loss: mse (2), iou_norm: 0.75, cls_norm: 1.00, scale_x_y: 1.00\n",
      "Total BFLOPS 65.442 \n",
      "avg_outputs = 520504 \n",
      " Allocate additional workspace_size = 52.43 MB \n",
      "Loading weights from /data/pre-trained/darknet53.conv.74...\n",
      " seen 64, trained: 0 K-images (0 Kilo-batches_64) \n"
     ]
    },
    {
     "name": "stdout",
     "output_type": "stream",
     "text": [
      "Done! Loaded 75 layers from weights-file \n",
      "Learning Rate: 0.001, Momentum: 0.9, Decay: 0.0005\n",
      "Resizing, random_coef = 1.40 \n",
      "\n",
      " 608 x 608 \n",
      " Create 6 permanent cpu-threads \n",
      " try to allocate additional workspace_size = 73.23 MB \n",
      " CUDA allocate done! \n",
      "Loaded: 0.000020 seconds\n",
      "v3 (mse loss, Normalizer: (iou: 0.75, cls: 1.00) Region 82 Avg (IOU: 0.591211, GIOU: 0.527301), Class: 0.736924, Obj: 0.669970, No Obj: 0.514060, .5R: 1.000000, .75R: 0.000000, count: 1, class_loss = 309.983368, iou_loss = 0.348602, total_loss = 310.331970 \n",
      "v3 (mse loss, Normalizer: (iou: 0.75, cls: 1.00) Region 94 Avg (IOU: 0.052685, GIOU: 0.052685), Class: 0.392326, Obj: 0.185039, No Obj: 0.487571, .5R: 0.000000, .75R: 0.000000, count: 1, class_loss = 1104.566040, iou_loss = 5.264648, total_loss = 1109.830688 \n",
      "v3 (mse loss, Normalizer: (iou: 0.75, cls: 1.00) Region 106 Avg (IOU: 0.000000, GIOU: 0.000000), Class: 0.000000, Obj: 0.000000, No Obj: 0.523474, .5R: 0.000000, .75R: 0.000000, count: 1, class_loss = 4985.491699, iou_loss = 0.000000, total_loss = 4985.491699 \n",
      "v3 (mse loss, Normalizer: (iou: 0.75, cls: 1.00) Region 82 Avg (IOU: 0.280007, GIOU: 0.243585), Class: 0.371306, Obj: 0.446541, No Obj: 0.514742, .5R: 0.000000, .75R: 0.000000, count: 3, class_loss = 314.922241, iou_loss = 5.089355, total_loss = 320.011597 \n",
      "v3 (mse loss, Normalizer: (iou: 0.75, cls: 1.00) Region 94 Avg (IOU: 0.471252, GIOU: 0.399986), Class: 0.708775, Obj: 0.572023, No Obj: 0.486177, .5R: 0.000000, .75R: 0.000000, count: 1, class_loss = 1097.770874, iou_loss = 0.661377, total_loss = 1098.432251 \n",
      "v3 (mse loss, Normalizer: (iou: 0.75, cls: 1.00) Region 106 Avg (IOU: 0.000000, GIOU: 0.000000), Class: 0.000000, Obj: 0.000000, No Obj: 0.524011, .5R: 0.000000, .75R: 0.000000, count: 1, class_loss = 5000.637695, iou_loss = 0.000000, total_loss = 5000.637695 \n",
      "v3 (mse loss, Normalizer: (iou: 0.75, cls: 1.00) Region 82 Avg (IOU: 0.328744, GIOU: 0.246630), Class: 0.396041, Obj: 0.515786, No Obj: 0.514090, .5R: 0.000000, .75R: 0.000000, count: 2, class_loss = 312.642242, iou_loss = 1.668060, total_loss = 314.310303 \n",
      "v3 (mse loss, Normalizer: (iou: 0.75, cls: 1.00) Region 94 Avg (IOU: 0.270092, GIOU: 0.140719), Class: 0.505598, Obj: 0.358226, No Obj: 0.487082, .5R: 0.000000, .75R: 0.000000, count: 2, class_loss = 1104.771240, iou_loss = 4.446777, total_loss = 1109.218018 \n",
      "v3 (mse loss, Normalizer: (iou: 0.75, cls: 1.00) Region 106 Avg (IOU: 0.000000, GIOU: 0.000000), Class: 0.000000, Obj: 0.000000, No Obj: 0.524164, .5R: 0.000000, .75R: 0.000000, count: 1, class_loss = 5005.418457, iou_loss = 0.000000, total_loss = 5005.418457 \n",
      "v3 (mse loss, Normalizer: (iou: 0.75, cls: 1.00) Region 82 Avg (IOU: 0.190040, GIOU: 0.121811), Class: 0.598941, Obj: 0.751252, No Obj: 0.513294, .5R: 0.000000, .75R: 0.000000, count: 3, class_loss = 313.844971, iou_loss = 7.919128, total_loss = 321.764099 \n",
      "v3 (mse loss, Normalizer: (iou: 0.75, cls: 1.00) Region 94 Avg (IOU: 0.302530, GIOU: 0.251779), Class: 0.492605, Obj: 0.322616, No Obj: 0.486431, .5R: 0.000000, .75R: 0.000000, count: 2, class_loss = 1101.020386, iou_loss = 1.955322, total_loss = 1102.975708 \n",
      "v3 (mse loss, Normalizer: (iou: 0.75, cls: 1.00) Region 106 Avg (IOU: 0.282104, GIOU: 0.101586), Class: 0.415888, Obj: 0.361810, No Obj: 0.524131, .5R: 0.000000, .75R: 0.000000, count: 3, class_loss = 5014.665039, iou_loss = 6.134277, total_loss = 5020.799316 \n",
      "v3 (mse loss, Normalizer: (iou: 0.75, cls: 1.00) Region 82 Avg (IOU: 0.371152, GIOU: 0.300389), Class: 0.531016, Obj: 0.599919, No Obj: 0.513603, .5R: 0.400000, .75R: 0.000000, count: 5, class_loss = 318.697784, iou_loss = 8.357025, total_loss = 327.054810 \n",
      "v3 (mse loss, Normalizer: (iou: 0.75, cls: 1.00) Region 94 Avg (IOU: 0.538355, GIOU: 0.505375), Class: 0.524080, Obj: 0.405608, No Obj: 0.486746, .5R: 0.750000, .75R: 0.000000, count: 4, class_loss = 1110.375244, iou_loss = 2.400879, total_loss = 1112.776123 \n",
      "v3 (mse loss, Normalizer: (iou: 0.75, cls: 1.00) Region 106 Avg (IOU: 0.000000, GIOU: 0.000000), Class: 0.000000, Obj: 0.000000, No Obj: 0.524010, .5R: 0.000000, .75R: 0.000000, count: 1, class_loss = 5003.631348, iou_loss = 0.000000, total_loss = 5003.631348 \n",
      "v3 (mse loss, Normalizer: (iou: 0.75, cls: 1.00) Region 82 Avg (IOU: 0.465536, GIOU: 0.349119), Class: 0.492615, Obj: 0.479169, No Obj: 0.514774, .5R: 0.500000, .75R: 0.000000, count: 2, class_loss = 312.099335, iou_loss = 1.265533, total_loss = 313.364868 \n",
      "v3 (mse loss, Normalizer: (iou: 0.75, cls: 1.00) Region 94 Avg (IOU: 0.000000, GIOU: 0.000000), Class: 0.000000, Obj: 0.000000, No Obj: 0.486218, .5R: 0.000000, .75R: 0.000000, count: 1, class_loss = 1093.795166, iou_loss = 0.000000, total_loss = 1093.795166 \n",
      "v3 (mse loss, Normalizer: (iou: 0.75, cls: 1.00) Region 106 Avg (IOU: 0.000000, GIOU: 0.000000), Class: 0.000000, Obj: 0.000000, No Obj: 0.524032, .5R: 0.000000, .75R: 0.000000, count: 1, class_loss = 4995.978027, iou_loss = 0.000000, total_loss = 4995.978027 \n",
      "v3 (mse loss, Normalizer: (iou: 0.75, cls: 1.00) Region 82 Avg (IOU: 0.366605, GIOU: 0.226467), Class: 0.648121, Obj: 0.556649, No Obj: 0.513489, .5R: 0.200000, .75R: 0.000000, count: 5, class_loss = 317.202209, iou_loss = 6.451904, total_loss = 323.654114 \n",
      "v3 (mse loss, Normalizer: (iou: 0.75, cls: 1.00) Region 94 Avg (IOU: 0.000000, GIOU: 0.000000), Class: 0.000000, Obj: 0.000000, No Obj: 0.486012, .5R: 0.000000, .75R: 0.000000, count: 1, class_loss = 1093.251343, iou_loss = 0.000000, total_loss = 1093.251343 \n",
      "v3 (mse loss, Normalizer: (iou: 0.75, cls: 1.00) Region 106 Avg (IOU: 0.000000, GIOU: 0.000000), Class: 0.000000, Obj: 0.000000, No Obj: 0.524077, .5R: 0.000000, .75R: 0.000000, count: 1, class_loss = 5007.715332, iou_loss = 0.000000, total_loss = 5007.715332 \n",
      "v3 (mse loss, Normalizer: (iou: 0.75, cls: 1.00) Region 82 Avg (IOU: 0.607279, GIOU: 0.588276), Class: 0.449432, Obj: 0.499451, No Obj: 0.513521, .5R: 1.000000, .75R: 0.000000, count: 2, class_loss = 312.390350, iou_loss = 0.486511, total_loss = 312.876862 \n",
      "v3 (mse loss, Normalizer: (iou: 0.75, cls: 1.00) Region 94 Avg (IOU: 0.000000, GIOU: 0.000000), Class: 0.000000, Obj: 0.000000, No Obj: 0.487586, .5R: 0.000000, .75R: 0.000000, count: 1, class_loss = 1099.144409, iou_loss = 0.000000, total_loss = 1099.144409 \n",
      "v3 (mse loss, Normalizer: (iou: 0.75, cls: 1.00) Region 106 Avg (IOU: 0.000000, GIOU: 0.000000), Class: 0.000000, Obj: 0.000000, No Obj: 0.522950, .5R: 0.000000, .75R: 0.000000, count: 1, class_loss = 4977.137207, iou_loss = 0.000000, total_loss = 4977.137207 \n",
      "v3 (mse loss, Normalizer: (iou: 0.75, cls: 1.00) Region 82 Avg (IOU: 0.347917, GIOU: 0.194265), Class: 0.451208, Obj: 0.390436, No Obj: 0.513544, .5R: 0.000000, .75R: 0.000000, count: 2, class_loss = 312.436920, iou_loss = 1.206299, total_loss = 313.643219 \n",
      "v3 (mse loss, Normalizer: (iou: 0.75, cls: 1.00) Region 94 Avg (IOU: 0.000000, GIOU: 0.000000), Class: 0.000000, Obj: 0.000000, No Obj: 0.486189, .5R: 0.000000, .75R: 0.000000, count: 1, class_loss = 1094.663696, iou_loss = 0.000000, total_loss = 1094.663696 \n",
      "v3 (mse loss, Normalizer: (iou: 0.75, cls: 1.00) Region 106 Avg (IOU: 0.000000, GIOU: 0.000000), Class: 0.000000, Obj: 0.000000, No Obj: 0.523979, .5R: 0.000000, .75R: 0.000000, count: 1, class_loss = 4997.973633, iou_loss = 0.000000, total_loss = 4997.973633 \n",
      "v3 (mse loss, Normalizer: (iou: 0.75, cls: 1.00) Region 82 Avg (IOU: 0.462658, GIOU: 0.405035), Class: 0.472513, Obj: 0.600241, No Obj: 0.514309, .5R: 0.400000, .75R: 0.000000, count: 5, class_loss = 319.959778, iou_loss = 5.459778, total_loss = 325.419556 \n",
      "v3 (mse loss, Normalizer: (iou: 0.75, cls: 1.00) Region 94 Avg (IOU: 0.438390, GIOU: 0.224275), Class: 0.442564, Obj: 0.443219, No Obj: 0.486255, .5R: 0.333333, .75R: 0.333333, count: 3, class_loss = 1098.441162, iou_loss = 4.677979, total_loss = 1103.119141 \n",
      "v3 (mse loss, Normalizer: (iou: 0.75, cls: 1.00) Region 106 Avg (IOU: 0.000000, GIOU: 0.000000), Class: 0.000000, Obj: 0.000000, No Obj: 0.523428, .5R: 0.000000, .75R: 0.000000, count: 1, class_loss = 4991.903320, iou_loss = 0.000000, total_loss = 4991.903320 \n",
      "v3 (mse loss, Normalizer: (iou: 0.75, cls: 1.00) Region 82 Avg (IOU: 0.325570, GIOU: 0.278129), Class: 0.503293, Obj: 0.645567, No Obj: 0.514755, .5R: 0.000000, .75R: 0.000000, count: 3, class_loss = 314.834839, iou_loss = 3.497375, total_loss = 318.332214 \n",
      "v3 (mse loss, Normalizer: (iou: 0.75, cls: 1.00) Region 94 Avg (IOU: 0.343219, GIOU: 0.337593), Class: 0.460606, Obj: 0.500665, No Obj: 0.486374, .5R: 0.000000, .75R: 0.000000, count: 2, class_loss = 1098.967529, iou_loss = 2.732056, total_loss = 1101.699585 \n",
      "v3 (mse loss, Normalizer: (iou: 0.75, cls: 1.00) Region 106 Avg (IOU: 0.000000, GIOU: 0.000000), Class: 0.000000, Obj: 0.000000, No Obj: 0.524153, .5R: 0.000000, .75R: 0.000000, count: 1, class_loss = 5001.527344, iou_loss = 0.000000, total_loss = 5001.527344 \n"
     ]
    },
    {
     "name": "stdout",
     "output_type": "stream",
     "text": [
      "v3 (mse loss, Normalizer: (iou: 0.75, cls: 1.00) Region 82 Avg (IOU: 0.000000, GIOU: 0.000000), Class: 0.000000, Obj: 0.000000, No Obj: 0.514634, .5R: 0.000000, .75R: 0.000000, count: 1, class_loss = 308.309906, iou_loss = 0.000000, total_loss = 308.309906 \n",
      "v3 (mse loss, Normalizer: (iou: 0.75, cls: 1.00) Region 94 Avg (IOU: 0.204883, GIOU: 0.204883), Class: 0.449454, Obj: 0.499593, No Obj: 0.486873, .5R: 0.000000, .75R: 0.000000, count: 2, class_loss = 1105.508789, iou_loss = 9.733276, total_loss = 1115.242065 \n",
      "v3 (mse loss, Normalizer: (iou: 0.75, cls: 1.00) Region 106 Avg (IOU: 0.000000, GIOU: 0.000000), Class: 0.000000, Obj: 0.000000, No Obj: 0.524105, .5R: 0.000000, .75R: 0.000000, count: 1, class_loss = 5004.094238, iou_loss = 0.000000, total_loss = 5004.094238 \n",
      "v3 (mse loss, Normalizer: (iou: 0.75, cls: 1.00) Region 82 Avg (IOU: 0.138691, GIOU: -0.079765), Class: 0.442767, Obj: 0.572435, No Obj: 0.513962, .5R: 0.000000, .75R: 0.000000, count: 2, class_loss = 312.544312, iou_loss = 5.531433, total_loss = 318.075745 \n",
      "v3 (mse loss, Normalizer: (iou: 0.75, cls: 1.00) Region 94 Avg (IOU: 0.000000, GIOU: 0.000000), Class: 0.000000, Obj: 0.000000, No Obj: 0.485911, .5R: 0.000000, .75R: 0.000000, count: 1, class_loss = 1090.173218, iou_loss = 0.000000, total_loss = 1090.173218 \n",
      "v3 (mse loss, Normalizer: (iou: 0.75, cls: 1.00) Region 106 Avg (IOU: 0.000000, GIOU: 0.000000), Class: 0.000000, Obj: 0.000000, No Obj: 0.524042, .5R: 0.000000, .75R: 0.000000, count: 1, class_loss = 4999.510742, iou_loss = 0.000000, total_loss = 4999.510742 \n",
      "v3 (mse loss, Normalizer: (iou: 0.75, cls: 1.00) Region 82 Avg (IOU: 0.411601, GIOU: 0.242998), Class: 0.658043, Obj: 0.632544, No Obj: 0.513818, .5R: 0.333333, .75R: 0.000000, count: 3, class_loss = 313.263275, iou_loss = 4.266632, total_loss = 317.529907 \n",
      "v3 (mse loss, Normalizer: (iou: 0.75, cls: 1.00) Region 94 Avg (IOU: 0.307744, GIOU: 0.103277), Class: 0.290758, Obj: 0.431065, No Obj: 0.486738, .5R: 0.000000, .75R: 0.000000, count: 1, class_loss = 1098.467651, iou_loss = 1.574707, total_loss = 1100.042358 \n",
      "v3 (mse loss, Normalizer: (iou: 0.75, cls: 1.00) Region 106 Avg (IOU: 0.000000, GIOU: 0.000000), Class: 0.000000, Obj: 0.000000, No Obj: 0.524031, .5R: 0.000000, .75R: 0.000000, count: 1, class_loss = 4994.250488, iou_loss = 0.000000, total_loss = 4994.250488 \n",
      "v3 (mse loss, Normalizer: (iou: 0.75, cls: 1.00) Region 82 Avg (IOU: 0.521074, GIOU: 0.395353), Class: 0.584415, Obj: 0.529235, No Obj: 0.513217, .5R: 0.500000, .75R: 0.250000, count: 4, class_loss = 314.622284, iou_loss = 2.216858, total_loss = 316.839142 \n",
      "v3 (mse loss, Normalizer: (iou: 0.75, cls: 1.00) Region 94 Avg (IOU: 0.000000, GIOU: 0.000000), Class: 0.000000, Obj: 0.000000, No Obj: 0.486270, .5R: 0.000000, .75R: 0.000000, count: 1, class_loss = 1095.133911, iou_loss = 0.000000, total_loss = 1095.133911 \n",
      "v3 (mse loss, Normalizer: (iou: 0.75, cls: 1.00) Region 106 Avg (IOU: 0.000000, GIOU: 0.000000), Class: 0.000000, Obj: 0.000000, No Obj: 0.524112, .5R: 0.000000, .75R: 0.000000, count: 1, class_loss = 4999.569824, iou_loss = 0.000000, total_loss = 4999.569824 \n",
      "v3 (mse loss, Normalizer: (iou: 0.75, cls: 1.00) Region 82 Avg (IOU: 0.251485, GIOU: 0.065697), Class: 0.519324, Obj: 0.436158, No Obj: 0.514084, .5R: 0.000000, .75R: 0.000000, count: 2, class_loss = 312.402435, iou_loss = 2.194855, total_loss = 314.597290 \n",
      "v3 (mse loss, Normalizer: (iou: 0.75, cls: 1.00) Region 94 Avg (IOU: 0.422627, GIOU: 0.304122), Class: 0.476035, Obj: 0.511668, No Obj: 0.486695, .5R: 0.000000, .75R: 0.000000, count: 2, class_loss = 1099.208984, iou_loss = 1.915527, total_loss = 1101.124512 \n",
      "v3 (mse loss, Normalizer: (iou: 0.75, cls: 1.00) Region 106 Avg (IOU: 0.000000, GIOU: 0.000000), Class: 0.000000, Obj: 0.000000, No Obj: 0.523327, .5R: 0.000000, .75R: 0.000000, count: 1, class_loss = 4982.602539, iou_loss = 0.000000, total_loss = 4982.602539 \n",
      "v3 (mse loss, Normalizer: (iou: 0.75, cls: 1.00) Region 82 Avg (IOU: 0.460050, GIOU: 0.361746), Class: 0.581888, Obj: 0.381133, No Obj: 0.513837, .5R: 0.500000, .75R: 0.000000, count: 4, class_loss = 314.853699, iou_loss = 1.921173, total_loss = 316.774872 \n",
      "v3 (mse loss, Normalizer: (iou: 0.75, cls: 1.00) Region 94 Avg (IOU: 0.000000, GIOU: 0.000000), Class: 0.000000, Obj: 0.000000, No Obj: 0.485995, .5R: 0.000000, .75R: 0.000000, count: 1, class_loss = 1094.320068, iou_loss = 0.000000, total_loss = 1094.320068 \n",
      "v3 (mse loss, Normalizer: (iou: 0.75, cls: 1.00) Region 106 Avg (IOU: 0.000000, GIOU: 0.000000), Class: 0.000000, Obj: 0.000000, No Obj: 0.524571, .5R: 0.000000, .75R: 0.000000, count: 1, class_loss = 5012.226074, iou_loss = 0.000000, total_loss = 5012.226074 \n",
      "v3 (mse loss, Normalizer: (iou: 0.75, cls: 1.00) Region 82 Avg (IOU: 0.464405, GIOU: 0.450382), Class: 0.451336, Obj: 0.539222, No Obj: 0.513300, .5R: 0.333333, .75R: 0.000000, count: 3, class_loss = 312.871857, iou_loss = 2.261810, total_loss = 315.133667 \n",
      "v3 (mse loss, Normalizer: (iou: 0.75, cls: 1.00) Region 94 Avg (IOU: 0.000000, GIOU: 0.000000), Class: 0.000000, Obj: 0.000000, No Obj: 0.488217, .5R: 0.000000, .75R: 0.000000, count: 1, class_loss = 1102.775757, iou_loss = 0.000000, total_loss = 1102.775757 \n",
      "v3 (mse loss, Normalizer: (iou: 0.75, cls: 1.00) Region 106 Avg (IOU: 0.000000, GIOU: 0.000000), Class: 0.000000, Obj: 0.000000, No Obj: 0.521736, .5R: 0.000000, .75R: 0.000000, count: 1, class_loss = 4937.104492, iou_loss = 0.000000, total_loss = 4937.104492 \n",
      "v3 (mse loss, Normalizer: (iou: 0.75, cls: 1.00) Region 82 Avg (IOU: 0.639329, GIOU: 0.622022), Class: 0.605864, Obj: 0.466305, No Obj: 0.514447, .5R: 1.000000, .75R: 0.000000, count: 2, class_loss = 310.975281, iou_loss = 0.417633, total_loss = 311.392914 \n",
      "v3 (mse loss, Normalizer: (iou: 0.75, cls: 1.00) Region 94 Avg (IOU: 0.000000, GIOU: 0.000000), Class: 0.000000, Obj: 0.000000, No Obj: 0.487216, .5R: 0.000000, .75R: 0.000000, count: 1, class_loss = 1097.336792, iou_loss = 0.000000, total_loss = 1097.336792 \n",
      "v3 (mse loss, Normalizer: (iou: 0.75, cls: 1.00) Region 106 Avg (IOU: 0.569068, GIOU: 0.563337), Class: 0.479380, Obj: 0.204822, No Obj: 0.523661, .5R: 1.000000, .75R: 0.000000, count: 1, class_loss = 4986.712891, iou_loss = 0.456543, total_loss = 4987.169434 \n",
      "v3 (mse loss, Normalizer: (iou: 0.75, cls: 1.00) Region 82 Avg (IOU: 0.214421, GIOU: -0.039155), Class: 0.566646, Obj: 0.598978, No Obj: 0.514160, .5R: 0.000000, .75R: 0.000000, count: 3, class_loss = 313.560394, iou_loss = 5.788330, total_loss = 319.348724 \n",
      "v3 (mse loss, Normalizer: (iou: 0.75, cls: 1.00) Region 94 Avg (IOU: 0.000000, GIOU: 0.000000), Class: 0.000000, Obj: 0.000000, No Obj: 0.486501, .5R: 0.000000, .75R: 0.000000, count: 1, class_loss = 1095.942627, iou_loss = 0.000000, total_loss = 1095.942627 \n",
      "v3 (mse loss, Normalizer: (iou: 0.75, cls: 1.00) Region 106 Avg (IOU: 0.000000, GIOU: 0.000000), Class: 0.000000, Obj: 0.000000, No Obj: 0.522868, .5R: 0.000000, .75R: 0.000000, count: 1, class_loss = 4978.004883, iou_loss = 0.000000, total_loss = 4978.004883 \n",
      "v3 (mse loss, Normalizer: (iou: 0.75, cls: 1.00) Region 82 Avg (IOU: 0.495764, GIOU: 0.457768), Class: 0.564492, Obj: 0.504900, No Obj: 0.514682, .5R: 0.400000, .75R: 0.000000, count: 5, class_loss = 317.845703, iou_loss = 2.222137, total_loss = 320.067841 \n",
      "v3 (mse loss, Normalizer: (iou: 0.75, cls: 1.00) Region 94 Avg (IOU: 0.000000, GIOU: 0.000000), Class: 0.000000, Obj: 0.000000, No Obj: 0.486337, .5R: 0.000000, .75R: 0.000000, count: 1, class_loss = 1094.286743, iou_loss = 0.000000, total_loss = 1094.286743 \n",
      "v3 (mse loss, Normalizer: (iou: 0.75, cls: 1.00) Region 106 Avg (IOU: 0.000000, GIOU: 0.000000), Class: 0.000000, Obj: 0.000000, No Obj: 0.523943, .5R: 0.000000, .75R: 0.000000, count: 1, class_loss = 5001.343750, iou_loss = 0.000000, total_loss = 5001.343750 \n",
      "v3 (mse loss, Normalizer: (iou: 0.75, cls: 1.00) Region 82 Avg (IOU: 0.347049, GIOU: 0.239484), Class: 0.505285, Obj: 0.511147, No Obj: 0.514856, .5R: 0.250000, .75R: 0.000000, count: 4, class_loss = 315.164703, iou_loss = 3.185699, total_loss = 318.350403 \n",
      "v3 (mse loss, Normalizer: (iou: 0.75, cls: 1.00) Region 94 Avg (IOU: 0.000000, GIOU: 0.000000), Class: 0.000000, Obj: 0.000000, No Obj: 0.486549, .5R: 0.000000, .75R: 0.000000, count: 1, class_loss = 1095.326294, iou_loss = 0.000000, total_loss = 1095.326294 \n",
      "v3 (mse loss, Normalizer: (iou: 0.75, cls: 1.00) Region 106 Avg (IOU: 0.000000, GIOU: 0.000000), Class: 0.000000, Obj: 0.000000, No Obj: 0.523255, .5R: 0.000000, .75R: 0.000000, count: 1, class_loss = 4983.698730, iou_loss = 0.000000, total_loss = 4983.698730 \n"
     ]
    },
    {
     "name": "stdout",
     "output_type": "stream",
     "text": [
      "v3 (mse loss, Normalizer: (iou: 0.75, cls: 1.00) Region 82 Avg (IOU: 0.253805, GIOU: -0.030786), Class: 0.438750, Obj: 0.535848, No Obj: 0.513716, .5R: 0.000000, .75R: 0.000000, count: 2, class_loss = 313.899780, iou_loss = 4.700134, total_loss = 318.599915 \n",
      "v3 (mse loss, Normalizer: (iou: 0.75, cls: 1.00) Region 94 Avg (IOU: 0.000000, GIOU: 0.000000), Class: 0.000000, Obj: 0.000000, No Obj: 0.487959, .5R: 0.000000, .75R: 0.000000, count: 1, class_loss = 1104.346924, iou_loss = 0.000000, total_loss = 1104.346924 \n",
      "v3 (mse loss, Normalizer: (iou: 0.75, cls: 1.00) Region 106 Avg (IOU: 0.000000, GIOU: 0.000000), Class: 0.000000, Obj: 0.000000, No Obj: 0.523885, .5R: 0.000000, .75R: 0.000000, count: 1, class_loss = 4993.142090, iou_loss = 0.000000, total_loss = 4993.142090 \n",
      "v3 (mse loss, Normalizer: (iou: 0.75, cls: 1.00) Region 82 Avg (IOU: 0.317061, GIOU: 0.016371), Class: 0.615247, Obj: 0.464126, No Obj: 0.515006, .5R: 0.200000, .75R: 0.200000, count: 5, class_loss = 319.891510, iou_loss = 14.006744, total_loss = 333.898254 \n",
      "v3 (mse loss, Normalizer: (iou: 0.75, cls: 1.00) Region 94 Avg (IOU: 0.365901, GIOU: 0.365901), Class: 0.744296, Obj: 0.566278, No Obj: 0.485972, .5R: 0.000000, .75R: 0.000000, count: 1, class_loss = 1097.962891, iou_loss = 0.980225, total_loss = 1098.943115 \n",
      "v3 (mse loss, Normalizer: (iou: 0.75, cls: 1.00) Region 106 Avg (IOU: 0.000000, GIOU: 0.000000), Class: 0.000000, Obj: 0.000000, No Obj: 0.524383, .5R: 0.000000, .75R: 0.000000, count: 1, class_loss = 5005.981934, iou_loss = 0.000000, total_loss = 5005.981934 \n",
      "v3 (mse loss, Normalizer: (iou: 0.75, cls: 1.00) Region 82 Avg (IOU: 0.263352, GIOU: 0.045804), Class: 0.528916, Obj: 0.597263, No Obj: 0.513956, .5R: 0.200000, .75R: 0.000000, count: 5, class_loss = 318.778442, iou_loss = 9.581177, total_loss = 328.359619 \n",
      "v3 (mse loss, Normalizer: (iou: 0.75, cls: 1.00) Region 94 Avg (IOU: 0.000000, GIOU: 0.000000), Class: 0.000000, Obj: 0.000000, No Obj: 0.486682, .5R: 0.000000, .75R: 0.000000, count: 1, class_loss = 1097.616089, iou_loss = 0.000000, total_loss = 1097.616089 \n",
      "v3 (mse loss, Normalizer: (iou: 0.75, cls: 1.00) Region 106 Avg (IOU: 0.000000, GIOU: 0.000000), Class: 0.000000, Obj: 0.000000, No Obj: 0.524068, .5R: 0.000000, .75R: 0.000000, count: 1, class_loss = 5005.981934, iou_loss = 0.000000, total_loss = 5005.981934 \n",
      "v3 (mse loss, Normalizer: (iou: 0.75, cls: 1.00) Region 82 Avg (IOU: 0.383705, GIOU: 0.355283), Class: 0.418358, Obj: 0.683080, No Obj: 0.514841, .5R: 0.000000, .75R: 0.000000, count: 2, class_loss = 311.456299, iou_loss = 1.429016, total_loss = 312.885315 \n",
      "v3 (mse loss, Normalizer: (iou: 0.75, cls: 1.00) Region 94 Avg (IOU: 0.000000, GIOU: 0.000000), Class: 0.000000, Obj: 0.000000, No Obj: 0.486981, .5R: 0.000000, .75R: 0.000000, count: 1, class_loss = 1096.735107, iou_loss = 0.000000, total_loss = 1096.735107 \n",
      "v3 (mse loss, Normalizer: (iou: 0.75, cls: 1.00) Region 106 Avg (IOU: 0.000000, GIOU: 0.000000), Class: 0.000000, Obj: 0.000000, No Obj: 0.523587, .5R: 0.000000, .75R: 0.000000, count: 1, class_loss = 4980.630371, iou_loss = 0.000000, total_loss = 4980.630371 \n",
      "v3 (mse loss, Normalizer: (iou: 0.75, cls: 1.00) Region 82 Avg (IOU: 0.256455, GIOU: 0.060330), Class: 0.437071, Obj: 0.628329, No Obj: 0.512772, .5R: 0.000000, .75R: 0.000000, count: 7, class_loss = 322.359497, iou_loss = 17.060181, total_loss = 339.419678 \n",
      "v3 (mse loss, Normalizer: (iou: 0.75, cls: 1.00) Region 94 Avg (IOU: 0.227658, GIOU: 0.227658), Class: 0.799858, Obj: 0.377244, No Obj: 0.487051, .5R: 0.000000, .75R: 0.000000, count: 2, class_loss = 1103.407349, iou_loss = 4.565552, total_loss = 1107.972900 \n",
      "v3 (mse loss, Normalizer: (iou: 0.75, cls: 1.00) Region 106 Avg (IOU: 0.000000, GIOU: 0.000000), Class: 0.000000, Obj: 0.000000, No Obj: 0.523996, .5R: 0.000000, .75R: 0.000000, count: 1, class_loss = 4992.316895, iou_loss = 0.000000, total_loss = 4992.316895 \n",
      "v3 (mse loss, Normalizer: (iou: 0.75, cls: 1.00) Region 82 Avg (IOU: 0.206089, GIOU: -0.166910), Class: 0.529523, Obj: 0.524830, No Obj: 0.514118, .5R: 0.000000, .75R: 0.000000, count: 4, class_loss = 316.613861, iou_loss = 11.997131, total_loss = 328.610992 \n",
      "v3 (mse loss, Normalizer: (iou: 0.75, cls: 1.00) Region 94 Avg (IOU: 0.247218, GIOU: -0.101284), Class: 0.594959, Obj: 0.478993, No Obj: 0.486712, .5R: 0.000000, .75R: 0.000000, count: 1, class_loss = 1101.847412, iou_loss = 2.220581, total_loss = 1104.067993 \n",
      "v3 (mse loss, Normalizer: (iou: 0.75, cls: 1.00) Region 106 Avg (IOU: 0.000000, GIOU: 0.000000), Class: 0.000000, Obj: 0.000000, No Obj: 0.523867, .5R: 0.000000, .75R: 0.000000, count: 1, class_loss = 4999.574219, iou_loss = 0.000000, total_loss = 4999.574219 \n",
      "v3 (mse loss, Normalizer: (iou: 0.75, cls: 1.00) Region 82 Avg (IOU: 0.324643, GIOU: 0.019032), Class: 0.287221, Obj: 0.662657, No Obj: 0.513853, .5R: 0.500000, .75R: 0.000000, count: 2, class_loss = 312.414734, iou_loss = 5.625519, total_loss = 318.040253 \n",
      "v3 (mse loss, Normalizer: (iou: 0.75, cls: 1.00) Region 94 Avg (IOU: 0.000000, GIOU: 0.000000), Class: 0.000000, Obj: 0.000000, No Obj: 0.486561, .5R: 0.000000, .75R: 0.000000, count: 1, class_loss = 1095.794556, iou_loss = 0.000000, total_loss = 1095.794556 \n",
      "v3 (mse loss, Normalizer: (iou: 0.75, cls: 1.00) Region 106 Avg (IOU: 0.000000, GIOU: 0.000000), Class: 0.000000, Obj: 0.000000, No Obj: 0.523701, .5R: 0.000000, .75R: 0.000000, count: 1, class_loss = 4993.180664, iou_loss = 0.000000, total_loss = 4993.180664 \n",
      "v3 (mse loss, Normalizer: (iou: 0.75, cls: 1.00) Region 82 Avg (IOU: 0.214737, GIOU: -0.027945), Class: 0.463311, Obj: 0.500920, No Obj: 0.514262, .5R: 0.000000, .75R: 0.000000, count: 4, class_loss = 317.056122, iou_loss = 13.156311, total_loss = 330.212433 \n",
      "v3 (mse loss, Normalizer: (iou: 0.75, cls: 1.00) Region 94 Avg (IOU: 0.224128, GIOU: -0.102818), Class: 0.374358, Obj: 0.565247, No Obj: 0.487055, .5R: 0.000000, .75R: 0.000000, count: 2, class_loss = 1101.909912, iou_loss = 6.803711, total_loss = 1108.713623 \n",
      "v3 (mse loss, Normalizer: (iou: 0.75, cls: 1.00) Region 106 Avg (IOU: 0.000000, GIOU: 0.000000), Class: 0.000000, Obj: 0.000000, No Obj: 0.523867, .5R: 0.000000, .75R: 0.000000, count: 1, class_loss = 5002.641113, iou_loss = 0.000000, total_loss = 5002.641113 \n",
      "v3 (mse loss, Normalizer: (iou: 0.75, cls: 1.00) Region 82 Avg (IOU: 0.298388, GIOU: 0.281469), Class: 0.365147, Obj: 0.443549, No Obj: 0.514638, .5R: 0.000000, .75R: 0.000000, count: 2, class_loss = 311.321503, iou_loss = 1.565186, total_loss = 312.886688 \n",
      "v3 (mse loss, Normalizer: (iou: 0.75, cls: 1.00) Region 94 Avg (IOU: 0.000000, GIOU: 0.000000), Class: 0.000000, Obj: 0.000000, No Obj: 0.486521, .5R: 0.000000, .75R: 0.000000, count: 1, class_loss = 1096.387939, iou_loss = 0.000000, total_loss = 1096.387939 \n",
      "v3 (mse loss, Normalizer: (iou: 0.75, cls: 1.00) Region 106 Avg (IOU: 0.000000, GIOU: 0.000000), Class: 0.000000, Obj: 0.000000, No Obj: 0.523601, .5R: 0.000000, .75R: 0.000000, count: 1, class_loss = 4991.579102, iou_loss = 0.000000, total_loss = 4991.579102 \n",
      "v3 (mse loss, Normalizer: (iou: 0.75, cls: 1.00) Region 82 Avg (IOU: 0.169315, GIOU: 0.073819), Class: 0.389453, Obj: 0.629162, No Obj: 0.513939, .5R: 0.000000, .75R: 0.000000, count: 3, class_loss = 315.138123, iou_loss = 6.889099, total_loss = 322.027222 \n",
      "v3 (mse loss, Normalizer: (iou: 0.75, cls: 1.00) Region 94 Avg (IOU: 0.000000, GIOU: 0.000000), Class: 0.000000, Obj: 0.000000, No Obj: 0.486904, .5R: 0.000000, .75R: 0.000000, count: 1, class_loss = 1097.347168, iou_loss = 0.000000, total_loss = 1097.347168 \n",
      "v3 (mse loss, Normalizer: (iou: 0.75, cls: 1.00) Region 106 Avg (IOU: 0.476261, GIOU: 0.406517), Class: 0.325348, Obj: 0.283653, No Obj: 0.524115, .5R: 0.000000, .75R: 0.000000, count: 1, class_loss = 5005.852051, iou_loss = 0.953613, total_loss = 5006.805664 \n",
      "\n",
      " Tensor Cores are disabled until the first 3000 iterations are reached.\n",
      "\n",
      " 1: 2138.231934, 2138.231934 avg loss, 0.000000 rate, 5.873583 seconds, 64 images, -1.000000 hours left\n",
      "Loaded: 0.000025 seconds\n",
      "v3 (mse loss, Normalizer: (iou: 0.75, cls: 1.00) Region 82 Avg (IOU: 0.344116, GIOU: 0.184583), Class: 0.466464, Obj: 0.464409, No Obj: 0.512982, .5R: 0.000000, .75R: 0.000000, count: 2, class_loss = 308.936615, iou_loss = 1.437897, total_loss = 310.374512 \n",
      "v3 (mse loss, Normalizer: (iou: 0.75, cls: 1.00) Region 94 Avg (IOU: 0.000000, GIOU: 0.000000), Class: 0.000000, Obj: 0.000000, No Obj: 0.486624, .5R: 0.000000, .75R: 0.000000, count: 1, class_loss = 1095.772705, iou_loss = 0.000000, total_loss = 1095.772705 \n",
      "v3 (mse loss, Normalizer: (iou: 0.75, cls: 1.00) Region 106 Avg (IOU: 0.000000, GIOU: 0.000000), Class: 0.000000, Obj: 0.000000, No Obj: 0.523538, .5R: 0.000000, .75R: 0.000000, count: 1, class_loss = 4990.356445, iou_loss = 0.000000, total_loss = 4990.356445 \n"
     ]
    },
    {
     "name": "stdout",
     "output_type": "stream",
     "text": [
      "v3 (mse loss, Normalizer: (iou: 0.75, cls: 1.00) Region 82 Avg (IOU: 0.373437, GIOU: 0.303882), Class: 0.367839, Obj: 0.584393, No Obj: 0.513341, .5R: 0.333333, .75R: 0.000000, count: 3, class_loss = 312.025635, iou_loss = 4.167053, total_loss = 316.192688 \n",
      "v3 (mse loss, Normalizer: (iou: 0.75, cls: 1.00) Region 94 Avg (IOU: 0.000000, GIOU: 0.000000), Class: 0.000000, Obj: 0.000000, No Obj: 0.486817, .5R: 0.000000, .75R: 0.000000, count: 1, class_loss = 1097.424561, iou_loss = 0.000000, total_loss = 1097.424561 \n",
      "v3 (mse loss, Normalizer: (iou: 0.75, cls: 1.00) Region 106 Avg (IOU: 0.000000, GIOU: 0.000000), Class: 0.000000, Obj: 0.000000, No Obj: 0.523997, .5R: 0.000000, .75R: 0.000000, count: 1, class_loss = 5000.360352, iou_loss = 0.000000, total_loss = 5000.360352 \n",
      "v3 (mse loss, Normalizer: (iou: 0.75, cls: 1.00) Region 82 Avg (IOU: 0.477968, GIOU: 0.407233), Class: 0.581417, Obj: 0.548777, No Obj: 0.513485, .5R: 0.200000, .75R: 0.000000, count: 5, class_loss = 314.848877, iou_loss = 2.397278, total_loss = 317.246155 \n",
      "v3 (mse loss, Normalizer: (iou: 0.75, cls: 1.00) Region 94 Avg (IOU: 0.000000, GIOU: 0.000000), Class: 0.000000, Obj: 0.000000, No Obj: 0.486128, .5R: 0.000000, .75R: 0.000000, count: 1, class_loss = 1095.791870, iou_loss = 0.000000, total_loss = 1095.791870 \n",
      "v3 (mse loss, Normalizer: (iou: 0.75, cls: 1.00) Region 106 Avg (IOU: 0.000000, GIOU: 0.000000), Class: 0.000000, Obj: 0.000000, No Obj: 0.524249, .5R: 0.000000, .75R: 0.000000, count: 1, class_loss = 5008.291016, iou_loss = 0.000000, total_loss = 5008.291016 \n",
      "v3 (mse loss, Normalizer: (iou: 0.75, cls: 1.00) Region 82 Avg (IOU: 0.504374, GIOU: 0.479254), Class: 0.633618, Obj: 0.459132, No Obj: 0.513784, .5R: 0.500000, .75R: 0.000000, count: 2, class_loss = 310.806152, iou_loss = 0.682861, total_loss = 311.489014 \n",
      "v3 (mse loss, Normalizer: (iou: 0.75, cls: 1.00) Region 94 Avg (IOU: 0.371582, GIOU: 0.347522), Class: 0.387498, Obj: 0.186128, No Obj: 0.486289, .5R: 0.000000, .75R: 0.000000, count: 1, class_loss = 1098.111938, iou_loss = 1.230347, total_loss = 1099.342285 \n",
      "v3 (mse loss, Normalizer: (iou: 0.75, cls: 1.00) Region 106 Avg (IOU: 0.000000, GIOU: 0.000000), Class: 0.000000, Obj: 0.000000, No Obj: 0.523435, .5R: 0.000000, .75R: 0.000000, count: 1, class_loss = 4987.514648, iou_loss = 0.000000, total_loss = 4987.514648 \n",
      "v3 (mse loss, Normalizer: (iou: 0.75, cls: 1.00) Region 82 Avg (IOU: 0.654472, GIOU: 0.636500), Class: 0.401114, Obj: 0.424938, No Obj: 0.514719, .5R: 1.000000, .75R: 0.000000, count: 2, class_loss = 311.381256, iou_loss = 0.777313, total_loss = 312.158569 \n",
      "v3 (mse loss, Normalizer: (iou: 0.75, cls: 1.00) Region 94 Avg (IOU: 0.000000, GIOU: 0.000000), Class: 0.000000, Obj: 0.000000, No Obj: 0.487244, .5R: 0.000000, .75R: 0.000000, count: 1, class_loss = 1100.374268, iou_loss = 0.000000, total_loss = 1100.374268 \n",
      "v3 (mse loss, Normalizer: (iou: 0.75, cls: 1.00) Region 106 Avg (IOU: 0.000000, GIOU: 0.000000), Class: 0.000000, Obj: 0.000000, No Obj: 0.523552, .5R: 0.000000, .75R: 0.000000, count: 1, class_loss = 4990.744629, iou_loss = 0.000000, total_loss = 4990.744629 \n",
      "v3 (mse loss, Normalizer: (iou: 0.75, cls: 1.00) Region 82 Avg (IOU: 0.256527, GIOU: -0.039673), Class: 0.618539, Obj: 0.624811, No Obj: 0.514554, .5R: 0.200000, .75R: 0.000000, count: 5, class_loss = 318.239197, iou_loss = 17.618073, total_loss = 335.857269 \n",
      "v3 (mse loss, Normalizer: (iou: 0.75, cls: 1.00) Region 94 Avg (IOU: 0.000000, GIOU: 0.000000), Class: 0.000000, Obj: 0.000000, No Obj: 0.486284, .5R: 0.000000, .75R: 0.000000, count: 1, class_loss = 1094.369263, iou_loss = 0.000000, total_loss = 1094.369263 \n",
      "v3 (mse loss, Normalizer: (iou: 0.75, cls: 1.00) Region 106 Avg (IOU: 0.000000, GIOU: 0.000000), Class: 0.000000, Obj: 0.000000, No Obj: 0.523779, .5R: 0.000000, .75R: 0.000000, count: 1, class_loss = 5003.334473, iou_loss = 0.000000, total_loss = 5003.334473 \n",
      "v3 (mse loss, Normalizer: (iou: 0.75, cls: 1.00) Region 82 Avg (IOU: 0.410903, GIOU: 0.410903), Class: 0.628802, Obj: 0.544092, No Obj: 0.513587, .5R: 0.000000, .75R: 0.000000, count: 2, class_loss = 312.191528, iou_loss = 1.245880, total_loss = 313.437408 \n",
      "v3 (mse loss, Normalizer: (iou: 0.75, cls: 1.00) Region 94 Avg (IOU: 0.000000, GIOU: 0.000000), Class: 0.000000, Obj: 0.000000, No Obj: 0.486741, .5R: 0.000000, .75R: 0.000000, count: 1, class_loss = 1098.661377, iou_loss = 0.000000, total_loss = 1098.661377 \n",
      "v3 (mse loss, Normalizer: (iou: 0.75, cls: 1.00) Region 106 Avg (IOU: 0.000000, GIOU: 0.000000), Class: 0.000000, Obj: 0.000000, No Obj: 0.523941, .5R: 0.000000, .75R: 0.000000, count: 1, class_loss = 4997.947754, iou_loss = 0.000000, total_loss = 4997.947754 \n",
      "v3 (mse loss, Normalizer: (iou: 0.75, cls: 1.00) Region 82 Avg (IOU: 0.332036, GIOU: 0.284707), Class: 0.620922, Obj: 0.372703, No Obj: 0.514019, .5R: 0.333333, .75R: 0.000000, count: 3, class_loss = 314.852783, iou_loss = 2.927124, total_loss = 317.779907 \n",
      "v3 (mse loss, Normalizer: (iou: 0.75, cls: 1.00) Region 94 Avg (IOU: 0.000000, GIOU: 0.000000), Class: 0.000000, Obj: 0.000000, No Obj: 0.486966, .5R: 0.000000, .75R: 0.000000, count: 1, class_loss = 1099.518433, iou_loss = 0.000000, total_loss = 1099.518433 \n",
      "v3 (mse loss, Normalizer: (iou: 0.75, cls: 1.00) Region 106 Avg (IOU: 0.000000, GIOU: 0.000000), Class: 0.000000, Obj: 0.000000, No Obj: 0.523860, .5R: 0.000000, .75R: 0.000000, count: 1, class_loss = 4994.733887, iou_loss = 0.000000, total_loss = 4994.733887 \n",
      "v3 (mse loss, Normalizer: (iou: 0.75, cls: 1.00) Region 82 Avg (IOU: 0.402234, GIOU: 0.385981), Class: 0.602941, Obj: 0.425505, No Obj: 0.513027, .5R: 0.000000, .75R: 0.000000, count: 2, class_loss = 310.649292, iou_loss = 1.505798, total_loss = 312.155090 \n",
      "v3 (mse loss, Normalizer: (iou: 0.75, cls: 1.00) Region 94 Avg (IOU: 0.000000, GIOU: 0.000000), Class: 0.000000, Obj: 0.000000, No Obj: 0.486281, .5R: 0.000000, .75R: 0.000000, count: 1, class_loss = 1094.603760, iou_loss = 0.000000, total_loss = 1094.603760 \n",
      "v3 (mse loss, Normalizer: (iou: 0.75, cls: 1.00) Region 106 Avg (IOU: 0.000000, GIOU: 0.000000), Class: 0.000000, Obj: 0.000000, No Obj: 0.524453, .5R: 0.000000, .75R: 0.000000, count: 1, class_loss = 5004.941895, iou_loss = 0.000000, total_loss = 5004.941895 \n",
      "v3 (mse loss, Normalizer: (iou: 0.75, cls: 1.00) Region 82 Avg (IOU: 0.399480, GIOU: 0.226770), Class: 0.592447, Obj: 0.675513, No Obj: 0.513628, .5R: 0.250000, .75R: 0.000000, count: 4, class_loss = 314.386871, iou_loss = 4.843018, total_loss = 319.229889 \n",
      "v3 (mse loss, Normalizer: (iou: 0.75, cls: 1.00) Region 94 Avg (IOU: 0.000000, GIOU: 0.000000), Class: 0.000000, Obj: 0.000000, No Obj: 0.487230, .5R: 0.000000, .75R: 0.000000, count: 1, class_loss = 1096.290405, iou_loss = 0.000000, total_loss = 1096.290405 \n",
      "v3 (mse loss, Normalizer: (iou: 0.75, cls: 1.00) Region 106 Avg (IOU: 0.000000, GIOU: 0.000000), Class: 0.000000, Obj: 0.000000, No Obj: 0.522863, .5R: 0.000000, .75R: 0.000000, count: 1, class_loss = 4973.456055, iou_loss = 0.000000, total_loss = 4973.456055 \n",
      "v3 (mse loss, Normalizer: (iou: 0.75, cls: 1.00) Region 82 Avg (IOU: 0.561541, GIOU: 0.554950), Class: 0.440958, Obj: 0.401304, No Obj: 0.513554, .5R: 0.500000, .75R: 0.500000, count: 2, class_loss = 311.126404, iou_loss = 1.021179, total_loss = 312.147583 \n",
      "v3 (mse loss, Normalizer: (iou: 0.75, cls: 1.00) Region 94 Avg (IOU: 0.622967, GIOU: 0.597427), Class: 0.486382, Obj: 0.197186, No Obj: 0.487339, .5R: 1.000000, .75R: 0.000000, count: 1, class_loss = 1102.233154, iou_loss = 0.279175, total_loss = 1102.512329 \n",
      "v3 (mse loss, Normalizer: (iou: 0.75, cls: 1.00) Region 106 Avg (IOU: 0.000000, GIOU: 0.000000), Class: 0.000000, Obj: 0.000000, No Obj: 0.523770, .5R: 0.000000, .75R: 0.000000, count: 1, class_loss = 4990.449707, iou_loss = 0.000000, total_loss = 4990.449707 \n",
      "v3 (mse loss, Normalizer: (iou: 0.75, cls: 1.00) Region 82 Avg (IOU: 0.345679, GIOU: 0.331657), Class: 0.354766, Obj: 0.574750, No Obj: 0.513833, .5R: 0.333333, .75R: 0.000000, count: 3, class_loss = 311.484344, iou_loss = 1.510651, total_loss = 312.994995 \n",
      "v3 (mse loss, Normalizer: (iou: 0.75, cls: 1.00) Region 94 Avg (IOU: 0.424500, GIOU: 0.336944), Class: 0.217446, Obj: 0.243128, No Obj: 0.486917, .5R: 0.000000, .75R: 0.000000, count: 1, class_loss = 1100.064819, iou_loss = 0.934937, total_loss = 1100.999756 \n",
      "v3 (mse loss, Normalizer: (iou: 0.75, cls: 1.00) Region 106 Avg (IOU: 0.000000, GIOU: 0.000000), Class: 0.000000, Obj: 0.000000, No Obj: 0.523786, .5R: 0.000000, .75R: 0.000000, count: 1, class_loss = 4998.494629, iou_loss = 0.000000, total_loss = 4998.494629 \n"
     ]
    },
    {
     "name": "stdout",
     "output_type": "stream",
     "text": [
      "v3 (mse loss, Normalizer: (iou: 0.75, cls: 1.00) Region 82 Avg (IOU: 0.375074, GIOU: 0.322097), Class: 0.427333, Obj: 0.415088, No Obj: 0.514890, .5R: 0.000000, .75R: 0.000000, count: 3, class_loss = 315.129364, iou_loss = 1.471436, total_loss = 316.600800 \n",
      "v3 (mse loss, Normalizer: (iou: 0.75, cls: 1.00) Region 94 Avg (IOU: 0.000000, GIOU: 0.000000), Class: 0.000000, Obj: 0.000000, No Obj: 0.487060, .5R: 0.000000, .75R: 0.000000, count: 1, class_loss = 1100.247559, iou_loss = 0.000000, total_loss = 1100.247559 \n",
      "v3 (mse loss, Normalizer: (iou: 0.75, cls: 1.00) Region 106 Avg (IOU: 0.000000, GIOU: 0.000000), Class: 0.000000, Obj: 0.000000, No Obj: 0.523519, .5R: 0.000000, .75R: 0.000000, count: 1, class_loss = 4992.655762, iou_loss = 0.000000, total_loss = 4992.655762 \n",
      "v3 (mse loss, Normalizer: (iou: 0.75, cls: 1.00) Region 82 Avg (IOU: 0.313324, GIOU: 0.065679), Class: 0.410755, Obj: 0.518051, No Obj: 0.514384, .5R: 0.000000, .75R: 0.000000, count: 3, class_loss = 312.625031, iou_loss = 3.602386, total_loss = 316.227417 \n",
      "v3 (mse loss, Normalizer: (iou: 0.75, cls: 1.00) Region 94 Avg (IOU: 0.000000, GIOU: 0.000000), Class: 0.000000, Obj: 0.000000, No Obj: 0.486445, .5R: 0.000000, .75R: 0.000000, count: 1, class_loss = 1095.524048, iou_loss = 0.000000, total_loss = 1095.524048 \n",
      "v3 (mse loss, Normalizer: (iou: 0.75, cls: 1.00) Region 106 Avg (IOU: 0.000000, GIOU: 0.000000), Class: 0.000000, Obj: 0.000000, No Obj: 0.523887, .5R: 0.000000, .75R: 0.000000, count: 1, class_loss = 4998.277344, iou_loss = 0.000000, total_loss = 4998.277344 \n",
      "v3 (mse loss, Normalizer: (iou: 0.75, cls: 1.00) Region 82 Avg (IOU: 0.317235, GIOU: 0.141510), Class: 0.561194, Obj: 0.532306, No Obj: 0.514636, .5R: 0.250000, .75R: 0.000000, count: 4, class_loss = 317.106934, iou_loss = 8.065186, total_loss = 325.172119 \n",
      "v3 (mse loss, Normalizer: (iou: 0.75, cls: 1.00) Region 94 Avg (IOU: 0.000000, GIOU: 0.000000), Class: 0.000000, Obj: 0.000000, No Obj: 0.486603, .5R: 0.000000, .75R: 0.000000, count: 1, class_loss = 1094.962158, iou_loss = 0.000000, total_loss = 1094.962158 \n",
      "v3 (mse loss, Normalizer: (iou: 0.75, cls: 1.00) Region 106 Avg (IOU: 0.209868, GIOU: -0.214509), Class: 0.476371, Obj: 0.409365, No Obj: 0.523983, .5R: 0.000000, .75R: 0.000000, count: 1, class_loss = 5001.169434, iou_loss = 2.601562, total_loss = 5003.770996 \n",
      "v3 (mse loss, Normalizer: (iou: 0.75, cls: 1.00) Region 82 Avg (IOU: 0.437465, GIOU: 0.228004), Class: 0.531346, Obj: 0.531282, No Obj: 0.514383, .5R: 0.333333, .75R: 0.000000, count: 3, class_loss = 314.405487, iou_loss = 4.508026, total_loss = 318.913513 \n",
      "v3 (mse loss, Normalizer: (iou: 0.75, cls: 1.00) Region 94 Avg (IOU: 0.000000, GIOU: 0.000000), Class: 0.000000, Obj: 0.000000, No Obj: 0.486747, .5R: 0.000000, .75R: 0.000000, count: 1, class_loss = 1097.733521, iou_loss = 0.000000, total_loss = 1097.733521 \n",
      "v3 (mse loss, Normalizer: (iou: 0.75, cls: 1.00) Region 106 Avg (IOU: 0.000000, GIOU: 0.000000), Class: 0.000000, Obj: 0.000000, No Obj: 0.523367, .5R: 0.000000, .75R: 0.000000, count: 1, class_loss = 4983.422852, iou_loss = 0.000000, total_loss = 4983.422852 \n",
      "v3 (mse loss, Normalizer: (iou: 0.75, cls: 1.00) Region 82 Avg (IOU: 0.254398, GIOU: 0.050592), Class: 0.484561, Obj: 0.558487, No Obj: 0.514208, .5R: 0.000000, .75R: 0.000000, count: 4, class_loss = 318.563080, iou_loss = 8.357544, total_loss = 326.920624 \n",
      "v3 (mse loss, Normalizer: (iou: 0.75, cls: 1.00) Region 94 Avg (IOU: 0.000000, GIOU: 0.000000), Class: 0.000000, Obj: 0.000000, No Obj: 0.486658, .5R: 0.000000, .75R: 0.000000, count: 1, class_loss = 1095.956299, iou_loss = 0.000000, total_loss = 1095.956299 \n",
      "v3 (mse loss, Normalizer: (iou: 0.75, cls: 1.00) Region 106 Avg (IOU: 0.000000, GIOU: 0.000000), Class: 0.000000, Obj: 0.000000, No Obj: 0.524207, .5R: 0.000000, .75R: 0.000000, count: 1, class_loss = 5002.785645, iou_loss = 0.000000, total_loss = 5002.785645 \n",
      "v3 (mse loss, Normalizer: (iou: 0.75, cls: 1.00) Region 82 Avg (IOU: 0.302110, GIOU: 0.208653), Class: 0.436618, Obj: 0.483556, No Obj: 0.515412, .5R: 0.000000, .75R: 0.000000, count: 4, class_loss = 318.633789, iou_loss = 6.086029, total_loss = 324.719818 \n",
      "v3 (mse loss, Normalizer: (iou: 0.75, cls: 1.00) Region 94 Avg (IOU: 0.373255, GIOU: 0.373255), Class: 0.223688, Obj: 0.420703, No Obj: 0.486200, .5R: 0.000000, .75R: 0.000000, count: 2, class_loss = 1100.938965, iou_loss = 2.094727, total_loss = 1103.033691 \n",
      "v3 (mse loss, Normalizer: (iou: 0.75, cls: 1.00) Region 106 Avg (IOU: 0.000000, GIOU: 0.000000), Class: 0.000000, Obj: 0.000000, No Obj: 0.523737, .5R: 0.000000, .75R: 0.000000, count: 1, class_loss = 4990.105957, iou_loss = 0.000000, total_loss = 4990.105957 \n",
      "v3 (mse loss, Normalizer: (iou: 0.75, cls: 1.00) Region 82 Avg (IOU: 0.204828, GIOU: 0.114851), Class: 0.439116, Obj: 0.506520, No Obj: 0.514575, .5R: 0.000000, .75R: 0.000000, count: 3, class_loss = 316.037872, iou_loss = 6.859924, total_loss = 322.897797 \n",
      "v3 (mse loss, Normalizer: (iou: 0.75, cls: 1.00) Region 94 Avg (IOU: 0.364213, GIOU: 0.166453), Class: 0.695388, Obj: 0.601562, No Obj: 0.487192, .5R: 0.333333, .75R: 0.000000, count: 3, class_loss = 1105.293823, iou_loss = 7.208862, total_loss = 1112.502686 \n",
      "v3 (mse loss, Normalizer: (iou: 0.75, cls: 1.00) Region 106 Avg (IOU: 0.000000, GIOU: 0.000000), Class: 0.000000, Obj: 0.000000, No Obj: 0.524240, .5R: 0.000000, .75R: 0.000000, count: 1, class_loss = 5005.523438, iou_loss = 0.000000, total_loss = 5005.523438 \n",
      "v3 (mse loss, Normalizer: (iou: 0.75, cls: 1.00) Region 82 Avg (IOU: 0.443023, GIOU: 0.418671), Class: 0.469916, Obj: 0.562860, No Obj: 0.514549, .5R: 0.500000, .75R: 0.000000, count: 2, class_loss = 308.979889, iou_loss = 1.138947, total_loss = 310.118835 \n",
      "v3 (mse loss, Normalizer: (iou: 0.75, cls: 1.00) Region 94 Avg (IOU: 0.157306, GIOU: 0.157306), Class: 0.364999, Obj: 0.359870, No Obj: 0.486849, .5R: 0.000000, .75R: 0.000000, count: 1, class_loss = 1100.710938, iou_loss = 3.126709, total_loss = 1103.837646 \n",
      "v3 (mse loss, Normalizer: (iou: 0.75, cls: 1.00) Region 106 Avg (IOU: 0.000000, GIOU: 0.000000), Class: 0.000000, Obj: 0.000000, No Obj: 0.523675, .5R: 0.000000, .75R: 0.000000, count: 1, class_loss = 4993.594727, iou_loss = 0.000000, total_loss = 4993.594727 \n",
      "v3 (mse loss, Normalizer: (iou: 0.75, cls: 1.00) Region 82 Avg (IOU: 0.289479, GIOU: 0.179267), Class: 0.737663, Obj: 0.477594, No Obj: 0.513844, .5R: 0.500000, .75R: 0.000000, count: 2, class_loss = 311.882477, iou_loss = 8.097900, total_loss = 319.980377 \n",
      "v3 (mse loss, Normalizer: (iou: 0.75, cls: 1.00) Region 94 Avg (IOU: 0.146285, GIOU: 0.046789), Class: 0.363341, Obj: 0.508805, No Obj: 0.487872, .5R: 0.000000, .75R: 0.000000, count: 2, class_loss = 1106.747437, iou_loss = 9.093872, total_loss = 1115.841309 \n",
      "v3 (mse loss, Normalizer: (iou: 0.75, cls: 1.00) Region 106 Avg (IOU: 0.000000, GIOU: 0.000000), Class: 0.000000, Obj: 0.000000, No Obj: 0.523696, .5R: 0.000000, .75R: 0.000000, count: 1, class_loss = 4980.691895, iou_loss = 0.000000, total_loss = 4980.691895 \n",
      "v3 (mse loss, Normalizer: (iou: 0.75, cls: 1.00) Region 82 Avg (IOU: 0.174923, GIOU: -0.070592), Class: 0.589835, Obj: 0.528311, No Obj: 0.513792, .5R: 0.000000, .75R: 0.000000, count: 3, class_loss = 314.428772, iou_loss = 8.604492, total_loss = 323.033264 \n",
      "v3 (mse loss, Normalizer: (iou: 0.75, cls: 1.00) Region 94 Avg (IOU: 0.422767, GIOU: 0.352695), Class: 0.592465, Obj: 0.445392, No Obj: 0.486466, .5R: 0.333333, .75R: 0.000000, count: 3, class_loss = 1104.414795, iou_loss = 3.193481, total_loss = 1107.608276 \n",
      "v3 (mse loss, Normalizer: (iou: 0.75, cls: 1.00) Region 106 Avg (IOU: 0.000000, GIOU: 0.000000), Class: 0.000000, Obj: 0.000000, No Obj: 0.523963, .5R: 0.000000, .75R: 0.000000, count: 1, class_loss = 5004.162598, iou_loss = 0.000000, total_loss = 5004.162598 \n",
      "v3 (mse loss, Normalizer: (iou: 0.75, cls: 1.00) Region 82 Avg (IOU: 0.361621, GIOU: 0.155960), Class: 0.597173, Obj: 0.294169, No Obj: 0.514624, .5R: 0.000000, .75R: 0.000000, count: 1, class_loss = 309.896820, iou_loss = 0.789886, total_loss = 310.686707 \n",
      "v3 (mse loss, Normalizer: (iou: 0.75, cls: 1.00) Region 94 Avg (IOU: 0.377632, GIOU: 0.327008), Class: 0.531593, Obj: 0.408784, No Obj: 0.488019, .5R: 0.333333, .75R: 0.000000, count: 6, class_loss = 1118.055786, iou_loss = 7.392700, total_loss = 1125.448486 \n",
      "v3 (mse loss, Normalizer: (iou: 0.75, cls: 1.00) Region 106 Avg (IOU: 0.000000, GIOU: 0.000000), Class: 0.000000, Obj: 0.000000, No Obj: 0.522628, .5R: 0.000000, .75R: 0.000000, count: 1, class_loss = 4963.788574, iou_loss = 0.000000, total_loss = 4963.788574 \n"
     ]
    },
    {
     "name": "stdout",
     "output_type": "stream",
     "text": [
      "v3 (mse loss, Normalizer: (iou: 0.75, cls: 1.00) Region 82 Avg (IOU: 0.378091, GIOU: 0.277144), Class: 0.605008, Obj: 0.491408, No Obj: 0.514255, .5R: 0.333333, .75R: 0.000000, count: 3, class_loss = 313.056152, iou_loss = 2.787506, total_loss = 315.843658 \n",
      "v3 (mse loss, Normalizer: (iou: 0.75, cls: 1.00) Region 94 Avg (IOU: 0.337594, GIOU: 0.102829), Class: 0.321337, Obj: 0.212274, No Obj: 0.485917, .5R: 0.000000, .75R: 0.000000, count: 1, class_loss = 1098.666016, iou_loss = 1.186768, total_loss = 1099.852783 \n",
      "v3 (mse loss, Normalizer: (iou: 0.75, cls: 1.00) Region 106 Avg (IOU: 0.356356, GIOU: 0.297010), Class: 0.331168, Obj: 0.469510, No Obj: 0.524370, .5R: 0.000000, .75R: 0.000000, count: 1, class_loss = 5007.582520, iou_loss = 1.142578, total_loss = 5008.725098 \n",
      "v3 (mse loss, Normalizer: (iou: 0.75, cls: 1.00) Region 82 Avg (IOU: 0.455291, GIOU: 0.420133), Class: 0.546727, Obj: 0.499771, No Obj: 0.514313, .5R: 0.500000, .75R: 0.000000, count: 4, class_loss = 316.531860, iou_loss = 3.312744, total_loss = 319.844604 \n",
      "v3 (mse loss, Normalizer: (iou: 0.75, cls: 1.00) Region 94 Avg (IOU: 0.530341, GIOU: 0.490934), Class: 0.548765, Obj: 0.412347, No Obj: 0.486492, .5R: 0.833333, .75R: 0.000000, count: 6, class_loss = 1109.514526, iou_loss = 4.272217, total_loss = 1113.786743 \n",
      "v3 (mse loss, Normalizer: (iou: 0.75, cls: 1.00) Region 106 Avg (IOU: 0.000000, GIOU: 0.000000), Class: 0.000000, Obj: 0.000000, No Obj: 0.524520, .5R: 0.000000, .75R: 0.000000, count: 1, class_loss = 5010.450195, iou_loss = 0.000000, total_loss = 5010.450195 \n",
      "^C\n"
     ]
    }
   ],
   "source": [
    "!/darknet/darknet detector train /data/cfg/voc.data /data/cfg/yolov3-voc.cfg /data/pre-trained/darknet53.conv.74 -dont_show"
   ]
  },
  {
   "cell_type": "markdown",
   "metadata": {},
   "source": [
    "### Run inference\n",
    "```darknet detector test <config.data> <model.cfg> <pretrained.model> <img_path>```"
   ]
  },
  {
   "cell_type": "code",
   "execution_count": null,
   "metadata": {},
   "outputs": [],
   "source": []
  }
 ],
 "metadata": {
  "kernelspec": {
   "display_name": "Python 3",
   "language": "python",
   "name": "python3"
  },
  "language_info": {
   "codemirror_mode": {
    "name": "ipython",
    "version": 3
   },
   "file_extension": ".py",
   "mimetype": "text/x-python",
   "name": "python",
   "nbconvert_exporter": "python",
   "pygments_lexer": "ipython3",
   "version": "3.6.9"
  }
 },
 "nbformat": 4,
 "nbformat_minor": 2
}
